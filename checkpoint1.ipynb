{
 "cells": [
  {
   "cell_type": "markdown",
   "source": [
    "# Checkpoint 1"
   ],
   "metadata": {}
  },
  {
   "cell_type": "markdown",
   "source": [
    "Reminder: \n",
    "\n",
    "- You are being evaluated for compeletion and effort in this checkpoint. \n",
    "- Avoid manual labor / hard coding as much as possible, everything we've taught you so far are meant to simplify and automate your process."
   ],
   "metadata": {}
  },
  {
   "cell_type": "markdown",
   "source": [
    "We will be working with the same `states_edu.csv` that you should already be familiar with from the tutorial.\n",
    "\n",
    "We investigated Grade 8 reading score in the tutorial. For this checkpoint, you are asked to investigate another test. Here's an overview:\n",
    "\n",
    "* Choose a specific response variable to focus on\n",
    ">Grade 4 Math, Grade 4 Reading, Grade 8 Math\n",
    "* Pick or create features to use\n",
    ">Will all the features be useful in predicting test score? Are some more important than others? Should you standardize, bin, or scale the data?\n",
    "* Explore the data as it relates to that test\n",
    ">Create at least 2 visualizations (graphs), each with a caption describing the graph and what it tells us about the data\n",
    "* Create training and testing data\n",
    ">Do you want to train on all the data? Only data from the last 10 years? Only Michigan data?\n",
    "* Train a ML model to predict outcome \n",
    ">Define what you want to predict, and pick a model in sklearn to use (see sklearn <a href=\"https://scikit-learn.org/stable/modules/linear_model.html\">regressors</a>.\n",
    "* Summarize your findings\n",
    ">Write a 1 paragraph summary of what you did and make a recommendation about if and how student performance can be predicted\n",
    "\n",
    "Include comments throughout your code! Every cleanup and preprocessing task should be documented.\n",
    "\n",
    "Of course, if you're finding this assignment interesting (and we really hope you do!), you are welcome to do more than the requirements! For example, you may want to see if expenditure affects 4th graders more than 8th graders. Maybe you want to look into the extended version of this dataset and see how factors like sex and race are involved. You can include all your work in this notebook when you turn it in -- just always make sure you explain what you did and interpret your results. Good luck!"
   ],
   "metadata": {}
  },
  {
   "cell_type": "markdown",
   "source": [
    "<h2> Data Cleanup </h2>\n",
    "\n",
    "Import `numpy`, `pandas`, and `matplotlib`.\n",
    "\n",
    "(Feel free to import other libraries!)"
   ],
   "metadata": {}
  },
  {
   "cell_type": "code",
   "execution_count": 1,
   "source": [
    "import numpy as np \n",
    "import pandas as pd \n",
    "import matplotlib.pyplot as plt"
   ],
   "outputs": [],
   "metadata": {}
  },
  {
   "cell_type": "markdown",
   "source": [
    "Load in the \"states_edu.csv\" dataset and take a look at the head of the data"
   ],
   "metadata": {}
  },
  {
   "cell_type": "code",
   "execution_count": 2,
   "source": [
    "df = pd.read_csv(\"states_edu.csv\")"
   ],
   "outputs": [],
   "metadata": {}
  },
  {
   "cell_type": "markdown",
   "source": [
    "You should always familiarize yourself with what each column in the dataframe represents. Read about the states_edu dataset here: https://www.kaggle.com/noriuk/us-education-datasets-unification-project"
   ],
   "metadata": {}
  },
  {
   "cell_type": "markdown",
   "source": [
    "Use this space to rename columns, deal with missing data, etc. _(optional)_"
   ],
   "metadata": {}
  },
  {
   "cell_type": "code",
   "execution_count": null,
   "source": [],
   "outputs": [],
   "metadata": {}
  },
  {
   "cell_type": "markdown",
   "source": [
    "<h2>Exploratory Data Analysis (EDA) </h2>"
   ],
   "metadata": {}
  },
  {
   "cell_type": "markdown",
   "source": [
    "Chosen Outcome Variable for Test: GRADES_4_G"
   ],
   "metadata": {}
  },
  {
   "cell_type": "markdown",
   "source": [
    "How many years of data are logged in our dataset? "
   ],
   "metadata": {}
  },
  {
   "cell_type": "code",
   "execution_count": 3,
   "source": [
    "print(df['YEAR'].nunique())"
   ],
   "outputs": [
    {
     "output_type": "stream",
     "name": "stdout",
     "text": [
      "33\n"
     ]
    }
   ],
   "metadata": {}
  },
  {
   "cell_type": "markdown",
   "source": [
    "Let's compare Michigan to Ohio. Which state has the higher average outcome score across all years?"
   ],
   "metadata": {}
  },
  {
   "cell_type": "code",
   "execution_count": 4,
   "source": [
    "michigan = df.iloc[23,21]\n",
    "ohio = df.iloc[36,21]\n",
    "\n",
    "if michigan > ohio:\n",
    "    print(\"Michigan\")\n",
    "else:\n",
    "    print(\"Ohio\")\n"
   ],
   "outputs": [
    {
     "output_type": "stream",
     "name": "stdout",
     "text": [
      "Michigan\n"
     ]
    }
   ],
   "metadata": {}
  },
  {
   "cell_type": "markdown",
   "source": [
    "Find the average for your outcome score across all states in 2019"
   ],
   "metadata": {}
  },
  {
   "cell_type": "code",
   "execution_count": 5,
   "source": [
    "df.dropna(subset=['GRADES_4_G'], inplace=True)\n",
    "df[\"GRADES_4_G\"].mean()"
   ],
   "outputs": [
    {
     "output_type": "execute_result",
     "data": {
      "text/plain": [
       "69166.50796568628"
      ]
     },
     "metadata": {},
     "execution_count": 5
    }
   ],
   "metadata": {}
  },
  {
   "cell_type": "markdown",
   "source": [
    "Find the maximum outcome score for every state. \n",
    "\n",
    "Refer to the `Grouping and Aggregating` section in Tutorial 0 if you are stuck."
   ],
   "metadata": {}
  },
  {
   "cell_type": "code",
   "execution_count": 6,
   "source": [
    "print(df.groupby('STATE')['GRADES_PK_G','GRADES_KG_G','GRADES_4_G','GRADES_8_G','GRADES_12_G'].max())"
   ],
   "outputs": [
    {
     "output_type": "stream",
     "name": "stdout",
     "text": [
      "                      GRADES_PK_G  GRADES_KG_G  GRADES_4_G  GRADES_8_G  \\\n",
      "STATE                                                                    \n",
      "ALABAMA                   15520.0      60949.0     60012.0     60004.0   \n",
      "ALASKA                     3586.0      10632.0     10926.0     11140.0   \n",
      "ARIZONA                   16748.0      87229.0     89184.0     86312.0   \n",
      "ARKANSAS                  16827.0      40463.0     38800.0     37369.0   \n",
      "CALIFORNIA               125099.0     535379.0    493415.0    500143.0   \n",
      "COLORADO                  33048.0      67225.0     69784.0     67854.0   \n",
      "CONNECTICUT               18579.0      44148.0     45307.0     45854.0   \n",
      "DELAWARE                   1802.0      10488.0     10838.0     10494.0   \n",
      "DISTRICT_OF_COLUMBIA      12727.0       7736.0      6339.0      6085.0   \n",
      "FLORIDA                   61241.0     210489.0    220504.0    211073.0   \n",
      "GEORGIA                   47726.0     136837.0    138249.0    133128.0   \n",
      "HAWAII                     1648.0      17561.0     15703.0     14543.0   \n",
      "IDAHO                      4081.0      23396.0     24003.0     23414.0   \n",
      "ILLINOIS                  92782.0     153934.0    160495.0    162192.0   \n",
      "INDIANA                   19198.0      80681.0     82387.0     82728.0   \n",
      "IOWA                      30454.0      41381.0     37980.0     39039.0   \n",
      "KANSAS                    21281.0      38534.0     37692.0     37189.0   \n",
      "KENTUCKY                  38125.0      53875.0     52487.0     51306.0   \n",
      "LOUISIANA                 29657.0      70222.0     63884.0     61997.0   \n",
      "MAINE                      5617.0      19107.0     17419.0     17493.0   \n",
      "MARYLAND                  31034.0      67548.0     70330.0     69567.0   \n",
      "MASSACHUSETTS             30684.0      79163.0     79385.0     78635.0   \n",
      "MICHIGAN                  48961.0     141656.0    134163.0    139797.0   \n",
      "MINNESOTA                 22692.0      65745.0     67226.0     67909.0   \n",
      "MISSISSIPPI                5732.0      43208.0     41820.0     39970.0   \n",
      "MISSOURI                  33360.0      71778.0     71928.0     74436.0   \n",
      "MONTANA                    2321.0      12923.0     13009.0     13342.0   \n",
      "NEBRASKA                  17513.0      24025.0     24169.0     23722.0   \n",
      "NEVADA                     8908.0      35083.0     38624.0     36389.0   \n",
      "NEW_HAMPSHIRE              3965.0      11970.0     17275.0     17703.0   \n",
      "NEW_JERSEY                64351.0      95251.0    101704.0    104437.0   \n",
      "NEW_MEXICO                 9689.0      27662.0     26363.0     26211.0   \n",
      "NEW_YORK                  65600.0     216112.0    219305.0    219335.0   \n",
      "NORTH_CAROLINA            33603.0     122209.0    122866.0    119636.0   \n",
      "NORTH_DAKOTA               2778.0      10292.0      9614.0      9943.0   \n",
      "OHIO                      38310.0     145294.0    143373.0    147161.0   \n",
      "OKLAHOMA                  42770.0      55134.0     52385.0     49462.0   \n",
      "OREGON                    30461.0      42728.0     46543.0     44802.0   \n",
      "PENNSYLVANIA              16294.0     134584.0    142366.0    151250.0   \n",
      "RHODE_ISLAND               2498.0      11397.0     12717.0     13018.0   \n",
      "SOUTH_CAROLINA            27006.0      58641.0     60890.0     57033.0   \n",
      "SOUTH_DAKOTA               3393.0      11901.0     11116.0     11654.0   \n",
      "TENNESSEE                 30352.0      81186.0     78472.0     74909.0   \n",
      "TEXAS                    256222.0     391731.0    413843.0    398662.0   \n",
      "UTAH                      15904.0      50386.0     52970.0     50627.0   \n",
      "VERMONT                   10678.0       8282.0      8457.0      8375.0   \n",
      "VIRGINIA                  33617.0      96935.0     99305.0     96881.0   \n",
      "WASHINGTON                15754.0      81559.0     87366.0     82274.0   \n",
      "WEST_VIRGINIA             16665.0      25821.0     26266.0     27392.0   \n",
      "WISCONSIN                 56777.0      63539.0     65996.0     68663.0   \n",
      "WYOMING                    2184.0       9075.0      8269.0      8302.0   \n",
      "\n",
      "                      GRADES_12_G  \n",
      "STATE                              \n",
      "ALABAMA                   52848.0  \n",
      "ALASKA                    10092.0  \n",
      "ARIZONA                   86960.0  \n",
      "ARKANSAS                  33097.0  \n",
      "CALIFORNIA               498403.0  \n",
      "COLORADO                  68112.0  \n",
      "CONNECTICUT               41381.0  \n",
      "DELAWARE                   9100.0  \n",
      "DISTRICT_OF_COLUMBIA       4806.0  \n",
      "FLORIDA                  202952.0  \n",
      "GEORGIA                  115678.0  \n",
      "HAWAII                    11326.0  \n",
      "IDAHO                     21512.0  \n",
      "ILLINOIS                 150045.0  \n",
      "INDIANA                   80475.0  \n",
      "IOWA                      39114.0  \n",
      "KANSAS                    34437.0  \n",
      "KENTUCKY                  45593.0  \n",
      "LOUISIANA                 45114.0  \n",
      "MAINE                     16322.0  \n",
      "MARYLAND                  61767.0  \n",
      "MASSACHUSETTS             71684.0  \n",
      "MICHIGAN                 126380.0  \n",
      "MINNESOTA                 74749.0  \n",
      "MISSISSIPPI               30933.0  \n",
      "MISSOURI                  67254.0  \n",
      "MONTANA                   11611.0  \n",
      "NEBRASKA                  24349.0  \n",
      "NEVADA                    33456.0  \n",
      "NEW_HAMPSHIRE             15959.0  \n",
      "NEW_JERSEY                98845.0  \n",
      "NEW_MEXICO                21573.0  \n",
      "NEW_YORK                 194079.0  \n",
      "NORTH_CAROLINA           105208.0  \n",
      "NORTH_DAKOTA               9306.0  \n",
      "OHIO                     137196.0  \n",
      "OKLAHOMA                  43534.0  \n",
      "OREGON                    48735.0  \n",
      "PENNSYLVANIA             153112.0  \n",
      "RHODE_ISLAND              10848.0  \n",
      "SOUTH_CAROLINA            50100.0  \n",
      "SOUTH_DAKOTA               9939.0  \n",
      "TENNESSEE                 69498.0  \n",
      "TEXAS                    345243.0  \n",
      "UTAH                      46516.0  \n",
      "VERMONT                    7714.0  \n",
      "VIRGINIA                  93121.0  \n",
      "WASHINGTON                91892.0  \n",
      "WEST_VIRGINIA             23488.0  \n",
      "WISCONSIN                 72380.0  \n",
      "WYOMING                    7129.0  \n"
     ]
    },
    {
     "output_type": "stream",
     "name": "stderr",
     "text": [
      "<ipython-input-6-17f0d84522b3>:1: FutureWarning: Indexing with multiple keys (implicitly converted to a tuple of keys) will be deprecated, use a list instead.\n",
      "  print(df.groupby('STATE')['GRADES_PK_G','GRADES_KG_G','GRADES_4_G','GRADES_8_G','GRADES_12_G'].max())\n"
     ]
    }
   ],
   "metadata": {}
  },
  {
   "cell_type": "markdown",
   "source": [
    "<h2> Feature Engineering </h2>\n",
    "\n",
    "After exploring the data, you can choose to modify features that you would use to predict the performance of the students on your chosen response variable. \n",
    "\n",
    "You can also create your own features. For example, perhaps you figured that maybe a state's expenditure per student may affect their overall academic performance so you create a expenditure_per_student feature.\n",
    "\n",
    "Use this space to modify or create features."
   ],
   "metadata": {}
  },
  {
   "cell_type": "code",
   "execution_count": 7,
   "source": [
    "df['INSTRUCTION_EXPENDITURE_PER_TOTAL_REVENUE'] = (df['INSTRUCTION_EXPENDITURE'] / df['TOTAL_REVENUE'])*100\n",
    "df.head() "
   ],
   "outputs": [
    {
     "output_type": "execute_result",
     "data": {
      "text/html": [
       "<div>\n",
       "<style scoped>\n",
       "    .dataframe tbody tr th:only-of-type {\n",
       "        vertical-align: middle;\n",
       "    }\n",
       "\n",
       "    .dataframe tbody tr th {\n",
       "        vertical-align: top;\n",
       "    }\n",
       "\n",
       "    .dataframe thead th {\n",
       "        text-align: right;\n",
       "    }\n",
       "</style>\n",
       "<table border=\"1\" class=\"dataframe\">\n",
       "  <thead>\n",
       "    <tr style=\"text-align: right;\">\n",
       "      <th></th>\n",
       "      <th>PRIMARY_KEY</th>\n",
       "      <th>STATE</th>\n",
       "      <th>YEAR</th>\n",
       "      <th>ENROLL</th>\n",
       "      <th>TOTAL_REVENUE</th>\n",
       "      <th>FEDERAL_REVENUE</th>\n",
       "      <th>STATE_REVENUE</th>\n",
       "      <th>LOCAL_REVENUE</th>\n",
       "      <th>TOTAL_EXPENDITURE</th>\n",
       "      <th>INSTRUCTION_EXPENDITURE</th>\n",
       "      <th>...</th>\n",
       "      <th>GRADES_8_G</th>\n",
       "      <th>GRADES_12_G</th>\n",
       "      <th>GRADES_1_8_G</th>\n",
       "      <th>GRADES_9_12_G</th>\n",
       "      <th>GRADES_ALL_G</th>\n",
       "      <th>AVG_MATH_4_SCORE</th>\n",
       "      <th>AVG_MATH_8_SCORE</th>\n",
       "      <th>AVG_READING_4_SCORE</th>\n",
       "      <th>AVG_READING_8_SCORE</th>\n",
       "      <th>INSTRUCTION_EXPENDITURE_PER_TOTAL_REVENUE</th>\n",
       "    </tr>\n",
       "  </thead>\n",
       "  <tbody>\n",
       "    <tr>\n",
       "      <th>0</th>\n",
       "      <td>1992_ALABAMA</td>\n",
       "      <td>ALABAMA</td>\n",
       "      <td>1992</td>\n",
       "      <td>NaN</td>\n",
       "      <td>2678885.0</td>\n",
       "      <td>304177.0</td>\n",
       "      <td>1659028.0</td>\n",
       "      <td>715680.0</td>\n",
       "      <td>2653798.0</td>\n",
       "      <td>1481703.0</td>\n",
       "      <td>...</td>\n",
       "      <td>58025.0</td>\n",
       "      <td>41167.0</td>\n",
       "      <td>NaN</td>\n",
       "      <td>NaN</td>\n",
       "      <td>731634.0</td>\n",
       "      <td>208.0</td>\n",
       "      <td>252.0</td>\n",
       "      <td>207.0</td>\n",
       "      <td>NaN</td>\n",
       "      <td>55.310437</td>\n",
       "    </tr>\n",
       "    <tr>\n",
       "      <th>1</th>\n",
       "      <td>1992_ALASKA</td>\n",
       "      <td>ALASKA</td>\n",
       "      <td>1992</td>\n",
       "      <td>NaN</td>\n",
       "      <td>1049591.0</td>\n",
       "      <td>106780.0</td>\n",
       "      <td>720711.0</td>\n",
       "      <td>222100.0</td>\n",
       "      <td>972488.0</td>\n",
       "      <td>498362.0</td>\n",
       "      <td>...</td>\n",
       "      <td>8789.0</td>\n",
       "      <td>6714.0</td>\n",
       "      <td>NaN</td>\n",
       "      <td>NaN</td>\n",
       "      <td>122487.0</td>\n",
       "      <td>NaN</td>\n",
       "      <td>NaN</td>\n",
       "      <td>NaN</td>\n",
       "      <td>NaN</td>\n",
       "      <td>47.481543</td>\n",
       "    </tr>\n",
       "    <tr>\n",
       "      <th>2</th>\n",
       "      <td>1992_ARIZONA</td>\n",
       "      <td>ARIZONA</td>\n",
       "      <td>1992</td>\n",
       "      <td>NaN</td>\n",
       "      <td>3258079.0</td>\n",
       "      <td>297888.0</td>\n",
       "      <td>1369815.0</td>\n",
       "      <td>1590376.0</td>\n",
       "      <td>3401580.0</td>\n",
       "      <td>1435908.0</td>\n",
       "      <td>...</td>\n",
       "      <td>49081.0</td>\n",
       "      <td>37410.0</td>\n",
       "      <td>NaN</td>\n",
       "      <td>NaN</td>\n",
       "      <td>673477.0</td>\n",
       "      <td>215.0</td>\n",
       "      <td>265.0</td>\n",
       "      <td>209.0</td>\n",
       "      <td>NaN</td>\n",
       "      <td>44.072228</td>\n",
       "    </tr>\n",
       "    <tr>\n",
       "      <th>3</th>\n",
       "      <td>1992_ARKANSAS</td>\n",
       "      <td>ARKANSAS</td>\n",
       "      <td>1992</td>\n",
       "      <td>NaN</td>\n",
       "      <td>1711959.0</td>\n",
       "      <td>178571.0</td>\n",
       "      <td>958785.0</td>\n",
       "      <td>574603.0</td>\n",
       "      <td>1743022.0</td>\n",
       "      <td>964323.0</td>\n",
       "      <td>...</td>\n",
       "      <td>36011.0</td>\n",
       "      <td>27651.0</td>\n",
       "      <td>NaN</td>\n",
       "      <td>NaN</td>\n",
       "      <td>441490.0</td>\n",
       "      <td>210.0</td>\n",
       "      <td>256.0</td>\n",
       "      <td>211.0</td>\n",
       "      <td>NaN</td>\n",
       "      <td>56.328627</td>\n",
       "    </tr>\n",
       "    <tr>\n",
       "      <th>4</th>\n",
       "      <td>1992_CALIFORNIA</td>\n",
       "      <td>CALIFORNIA</td>\n",
       "      <td>1992</td>\n",
       "      <td>NaN</td>\n",
       "      <td>26260025.0</td>\n",
       "      <td>2072470.0</td>\n",
       "      <td>16546514.0</td>\n",
       "      <td>7641041.0</td>\n",
       "      <td>27138832.0</td>\n",
       "      <td>14358922.0</td>\n",
       "      <td>...</td>\n",
       "      <td>363296.0</td>\n",
       "      <td>270675.0</td>\n",
       "      <td>NaN</td>\n",
       "      <td>NaN</td>\n",
       "      <td>5254844.0</td>\n",
       "      <td>208.0</td>\n",
       "      <td>261.0</td>\n",
       "      <td>202.0</td>\n",
       "      <td>NaN</td>\n",
       "      <td>54.679773</td>\n",
       "    </tr>\n",
       "  </tbody>\n",
       "</table>\n",
       "<p>5 rows × 26 columns</p>\n",
       "</div>"
      ],
      "text/plain": [
       "       PRIMARY_KEY       STATE  YEAR  ENROLL  TOTAL_REVENUE  FEDERAL_REVENUE  \\\n",
       "0     1992_ALABAMA     ALABAMA  1992     NaN      2678885.0         304177.0   \n",
       "1      1992_ALASKA      ALASKA  1992     NaN      1049591.0         106780.0   \n",
       "2     1992_ARIZONA     ARIZONA  1992     NaN      3258079.0         297888.0   \n",
       "3    1992_ARKANSAS    ARKANSAS  1992     NaN      1711959.0         178571.0   \n",
       "4  1992_CALIFORNIA  CALIFORNIA  1992     NaN     26260025.0        2072470.0   \n",
       "\n",
       "   STATE_REVENUE  LOCAL_REVENUE  TOTAL_EXPENDITURE  INSTRUCTION_EXPENDITURE  \\\n",
       "0      1659028.0       715680.0          2653798.0                1481703.0   \n",
       "1       720711.0       222100.0           972488.0                 498362.0   \n",
       "2      1369815.0      1590376.0          3401580.0                1435908.0   \n",
       "3       958785.0       574603.0          1743022.0                 964323.0   \n",
       "4     16546514.0      7641041.0         27138832.0               14358922.0   \n",
       "\n",
       "   ...  GRADES_8_G  GRADES_12_G  GRADES_1_8_G  GRADES_9_12_G  GRADES_ALL_G  \\\n",
       "0  ...     58025.0      41167.0           NaN            NaN      731634.0   \n",
       "1  ...      8789.0       6714.0           NaN            NaN      122487.0   \n",
       "2  ...     49081.0      37410.0           NaN            NaN      673477.0   \n",
       "3  ...     36011.0      27651.0           NaN            NaN      441490.0   \n",
       "4  ...    363296.0     270675.0           NaN            NaN     5254844.0   \n",
       "\n",
       "   AVG_MATH_4_SCORE  AVG_MATH_8_SCORE  AVG_READING_4_SCORE  \\\n",
       "0             208.0             252.0                207.0   \n",
       "1               NaN               NaN                  NaN   \n",
       "2             215.0             265.0                209.0   \n",
       "3             210.0             256.0                211.0   \n",
       "4             208.0             261.0                202.0   \n",
       "\n",
       "   AVG_READING_8_SCORE  INSTRUCTION_EXPENDITURE_PER_TOTAL_REVENUE  \n",
       "0                  NaN                                  55.310437  \n",
       "1                  NaN                                  47.481543  \n",
       "2                  NaN                                  44.072228  \n",
       "3                  NaN                                  56.328627  \n",
       "4                  NaN                                  54.679773  \n",
       "\n",
       "[5 rows x 26 columns]"
      ]
     },
     "metadata": {},
     "execution_count": 7
    }
   ],
   "metadata": {}
  },
  {
   "cell_type": "markdown",
   "source": [
    "Feature engineering justification: To find out how much each state is willing to dedicate of their total revenue to educational purposes. "
   ],
   "metadata": {}
  },
  {
   "cell_type": "markdown",
   "source": [
    "<h2>Visualization</h2>\n",
    "\n",
    "Investigate the relationship between your chosen response variable and at least two predictors using visualizations. Write down your observations.\n",
    "\n",
    "**Visualization 1**"
   ],
   "metadata": {}
  },
  {
   "cell_type": "code",
   "execution_count": 8,
   "source": [
    "df.plot.scatter(x='INSTRUCTION_EXPENDITURE_PER_TOTAL_REVENUE',y='GRADES_4_G',alpha=0.6)\n",
    "plt.xlabel('Instruction Expenditure Per Total Revenue')\n",
    "plt.ylabel('Grade 4 Grades')"
   ],
   "outputs": [
    {
     "output_type": "execute_result",
     "data": {
      "text/plain": [
       "Text(0, 0.5, 'Grade 4 Grades')"
      ]
     },
     "metadata": {},
     "execution_count": 8
    },
    {
     "output_type": "display_data",
     "data": {
      "image/png": "[encoded data removed]",
      "text/plain": [
       "<Figure size 432x288 with 1 Axes>"
      ]
     },
     "metadata": {
      "needs_background": "light"
     }
    }
   ],
   "metadata": {}
  },
  {
   "cell_type": "markdown",
   "source": [
    "Instruction Expenditure Per Total Revenue vs. Grade 4 Grades\n",
    "\n",
    "The initial guess that the ratio of instruction expenditure and total revenue would indicate grade 4 grades was wrong as we can see from the scatter plot above. "
   ],
   "metadata": {}
  },
  {
   "cell_type": "markdown",
   "source": [
    "**Visualization 2**"
   ],
   "metadata": {}
  },
  {
   "cell_type": "code",
   "execution_count": 9,
   "source": [
    "df.plot.scatter(x='INSTRUCTION_EXPENDITURE_PER_TOTAL_REVENUE',y='GRADES_ALL_G',alpha=0.6)\n",
    "plt.xlabel('Instruction Expenditure Per Total Revenue')\n",
    "plt.ylabel('The Grades of All Grades')"
   ],
   "outputs": [
    {
     "output_type": "execute_result",
     "data": {
      "text/plain": [
       "Text(0, 0.5, 'The Grades of All Grades')"
      ]
     },
     "metadata": {},
     "execution_count": 9
    },
    {
     "output_type": "display_data",
     "data": {
      "image/png": "[encoded data removed]",
      "text/plain": [
       "<Figure size 432x288 with 1 Axes>"
      ]
     },
     "metadata": {
      "needs_background": "light"
     }
    }
   ],
   "metadata": {}
  },
  {
   "cell_type": "markdown",
   "source": [
    "Instruction out of total revenue vs Grades\n",
    "\n",
    "This scatter plot confirms that instruction expenditure is not indicative of grade perfomances. "
   ],
   "metadata": {}
  },
  {
   "cell_type": "markdown",
   "source": [
    "<h2> Data Creation </h2>\n",
    "\n",
    "_Use this space to create train/test data_"
   ],
   "metadata": {}
  },
  {
   "cell_type": "code",
   "execution_count": 10,
   "source": [
    "from sklearn.model_selection import train_test_split"
   ],
   "outputs": [],
   "metadata": {}
  },
  {
   "cell_type": "code",
   "execution_count": 11,
   "source": [
    "X = df[[\"INSTRUCTION_EXPENDITURE_PER_TOTAL_REVENUE\", \"TOTAL_EXPENDITURE\"]].dropna()\n",
    "y = df.loc[X.index][\"GRADES_4_G\"]"
   ],
   "outputs": [],
   "metadata": {}
  },
  {
   "cell_type": "code",
   "execution_count": 12,
   "source": [
    "X_train, X_test, y_train, y_test = train_test_split(X, y, test_size= 3, random_state=42)"
   ],
   "outputs": [],
   "metadata": {}
  },
  {
   "cell_type": "markdown",
   "source": [
    "<h2> Prediction </h2>"
   ],
   "metadata": {}
  },
  {
   "cell_type": "markdown",
   "source": [
    "ML Models [Resource](https://medium.com/@vijaya.beeravalli/comparison-of-machine-learning-classification-models-for-credit-card-default-data-c3cf805c9a5a)"
   ],
   "metadata": {}
  },
  {
   "cell_type": "code",
   "execution_count": 13,
   "source": [
    "# import your sklearn class here\n",
    "from sklearn.linear_model import LinearRegression"
   ],
   "outputs": [],
   "metadata": {}
  },
  {
   "cell_type": "code",
   "execution_count": 14,
   "source": [
    "# create your model here\n",
    "model = LinearRegression()"
   ],
   "outputs": [],
   "metadata": {}
  },
  {
   "cell_type": "code",
   "execution_count": 15,
   "source": [
    "model.fit(X_train, y_train)"
   ],
   "outputs": [
    {
     "output_type": "execute_result",
     "data": {
      "text/plain": [
       "LinearRegression()"
      ]
     },
     "metadata": {},
     "execution_count": 15
    }
   ],
   "metadata": {}
  },
  {
   "cell_type": "code",
   "execution_count": 16,
   "source": [
    "y_pred = model.predict(X_test)"
   ],
   "outputs": [],
   "metadata": {}
  },
  {
   "cell_type": "markdown",
   "source": [
    "## Evaluation"
   ],
   "metadata": {}
  },
  {
   "cell_type": "markdown",
   "source": [
    "Choose some metrics to evaluate the performance of your model, some of them are mentioned in the tutorial."
   ],
   "metadata": {}
  },
  {
   "cell_type": "code",
   "execution_count": 17,
   "source": [
    "model.score(X_test, y_test)"
   ],
   "outputs": [
    {
     "output_type": "execute_result",
     "data": {
      "text/plain": [
       "-49.86662206038093"
      ]
     },
     "metadata": {},
     "execution_count": 17
    }
   ],
   "metadata": {}
  },
  {
   "cell_type": "markdown",
   "source": [
    "We have copied over the graphs that visualize the model's performance on the training and testing set. \n",
    "\n",
    "Change `col_name` and modify the call to `plt.ylabel()` to isolate how a single predictor affects the model."
   ],
   "metadata": {}
  },
  {
   "cell_type": "code",
   "execution_count": 18,
   "source": [
    "col_name = 'INSTRUCTION_EXPENDITURE_PER_TOTAL_REVENUE'\n",
    "\n",
    "f = plt.figure(figsize=(12,6))\n",
    "plt.scatter(X_train[col_name], y_train, color = \"red\")\n",
    "plt.scatter(X_train[col_name], model.predict(X_train), color = \"green\")\n",
    "\n",
    "plt.legend(['True Training','Predicted Training'])\n",
    "plt.xlabel(col_name)\n",
    "plt.ylabel('NAME OF THE PREDICTOR')\n",
    "plt.title(\"Model Behavior On Training Set\")"
   ],
   "outputs": [
    {
     "output_type": "execute_result",
     "data": {
      "text/plain": [
       "Text(0.5, 1.0, 'Model Behavior On Training Set')"
      ]
     },
     "metadata": {},
     "execution_count": 18
    },
    {
     "output_type": "display_data",
     "data": {
      "image/png": "[encoded data removed]",
      "text/plain": [
       "<Figure size 864x432 with 1 Axes>"
      ]
     },
     "metadata": {
      "needs_background": "light"
     }
    }
   ],
   "metadata": {}
  },
  {
   "cell_type": "code",
   "execution_count": 19,
   "source": [
    "col_name = \"INSTRUCTION_EXPENDITURE_PER_TOTAL_REVENUE\"\n",
    "\n",
    "f = plt.figure(figsize=(12,6))\n",
    "plt.scatter(X_test[col_name], y_test, color = \"blue\")\n",
    "plt.scatter(X_test[col_name], model.predict(X_test), color = \"black\")\n",
    "\n",
    "plt.legend(['True testing','Predicted testing'])\n",
    "plt.xlabel(col_name)\n",
    "plt.ylabel('Grade 4 Grades')\n",
    "plt.title(\"Model Behavior on Testing Set\")"
   ],
   "outputs": [
    {
     "output_type": "execute_result",
     "data": {
      "text/plain": [
       "Text(0.5, 1.0, 'Model Behavior on Testing Set')"
      ]
     },
     "metadata": {},
     "execution_count": 19
    },
    {
     "output_type": "display_data",
     "data": {
      "image/png": "[encoded data removed]",
      "text/plain": [
       "<Figure size 864x432 with 1 Axes>"
      ]
     },
     "metadata": {
      "needs_background": "light"
     }
    }
   ],
   "metadata": {}
  },
  {
   "cell_type": "markdown",
   "source": [
    "<h2> Summary </h2>"
   ],
   "metadata": {}
  },
  {
   "cell_type": "markdown",
   "source": [
    "I tried to understand the co-relation between the instruction expenditure per total revenue and the grades students recieved. As we can see from the graph, there is no relation between the two.\n"
   ],
   "metadata": {}
  }
 ],
 "metadata": {
  "kernelspec": {
   "name": "python3",
   "display_name": "Python 3.8.8 64-bit ('base': conda)"
  },
  "language_info": {
   "codemirror_mode": {
    "name": "ipython",
    "version": 3
   },
   "file_extension": ".py",
   "mimetype": "text/x-python",
   "name": "python",
   "nbconvert_exporter": "python",
   "pygments_lexer": "ipython3",
   "version": "3.8.8"
  },
  "vscode": {
   "interpreter": {
    "hash": "6cf8df3ff69f85f626faf55c10df6fe2cb9d1236b4dc73844ee4dc01369c2c99"
   }
  },
  "interpreter": {
   "hash": "83068d9bb638ba5807b1a2d0a9546f52c327abfc5b61d40838955e0d5144a8d9"
  }
 },
 "nbformat": 4,
 "nbformat_minor": 4
}